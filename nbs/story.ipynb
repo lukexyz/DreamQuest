{
 "cells": [
  {
   "cell_type": "code",
   "execution_count": 2,
   "metadata": {},
   "outputs": [],
   "source": [
    "from claudette import *\n",
    "import os"
   ]
  },
  {
   "cell_type": "code",
   "execution_count": 3,
   "metadata": {},
   "outputs": [],
   "source": [
    "api_key = os.environ.get('ANTHROPIC_API_KEY')"
   ]
  },
  {
   "cell_type": "code",
   "execution_count": null,
   "metadata": {},
   "outputs": [
    {
     "data": {
      "text/plain": [
       "['claude-3-opus-20240229',\n",
       " 'claude-3-5-sonnet-20240620',\n",
       " 'claude-3-haiku-20240307']"
      ]
     },
     "execution_count": 5,
     "metadata": {},
     "output_type": "execute_result"
    }
   ],
   "source": [
    "models"
   ]
  },
  {
   "cell_type": "code",
   "execution_count": 7,
   "metadata": {},
   "outputs": [
    {
     "data": {
      "text/markdown": [
       "Hello Jeremy, it's nice to meet you. How can I assist you today?\n",
       "\n",
       "<details>\n",
       "\n",
       "- id: `msg_01CpwrymzjdRZcCbhvLz9B7D`\n",
       "- content: `[{'text': \"Hello Jeremy, it's nice to meet you. How can I assist you today?\", 'type': 'text'}]`\n",
       "- model: `claude-3-5-sonnet-20240620`\n",
       "- role: `assistant`\n",
       "- stop_reason: `end_turn`\n",
       "- stop_sequence: `None`\n",
       "- type: `message`\n",
       "- usage: `{'input_tokens': 19, 'output_tokens': 21, 'cache_creation_input_tokens': 0, 'cache_read_input_tokens': 0}`\n",
       "\n",
       "</details>"
      ],
      "text/plain": [
       "Message(id='msg_01CpwrymzjdRZcCbhvLz9B7D', content=[TextBlock(text=\"Hello Jeremy, it's nice to meet you. How can I assist you today?\", type='text')], model='claude-3-5-sonnet-20240620', role='assistant', stop_reason='end_turn', stop_sequence=None, type='message', usage=In: 19; Out: 21; Cache create: 0; Cache read: 0; Total: 40)"
      ]
     },
     "execution_count": 7,
     "metadata": {},
     "output_type": "execute_result"
    }
   ],
   "source": [
    "model = models[1]\n",
    "\n",
    "chat = Chat(model, sp=\"\"\"You are a helpful and concise assistant.\"\"\")\n",
    "chat(\"I'm Jeremy\")"
   ]
  },
  {
   "cell_type": "code",
   "execution_count": 16,
   "metadata": {},
   "outputs": [
    {
     "data": {
      "text/markdown": [
       "Hi Luke! It's nice to meet you. Since you've introduced yourself, would you like me to create a short story featuring a character named Luke? Or did you have something else in mind? I'd be happy to help with any kind of children's story you're interested in.\n",
       "\n",
       "<details>\n",
       "\n",
       "- id: `msg_01VpvxmdQVKWHudubXXqRfYz`\n",
       "- content: `[{'text': \"Hi Luke! It's nice to meet you. Since you've introduced yourself, would you like me to create a short story featuring a character named Luke? Or did you have something else in mind? I'd be happy to help with any kind of children's story you're interested in.\", 'type': 'text'}]`\n",
       "- model: `claude-3-5-sonnet-20240620`\n",
       "- role: `assistant`\n",
       "- stop_reason: `end_turn`\n",
       "- stop_sequence: `None`\n",
       "- type: `message`\n",
       "- usage: `{'input_tokens': 27, 'output_tokens': 61, 'cache_creation_input_tokens': 0, 'cache_read_input_tokens': 0}`\n",
       "\n",
       "</details>"
      ],
      "text/plain": [
       "Message(id='msg_01VpvxmdQVKWHudubXXqRfYz', content=[TextBlock(text=\"Hi Luke! It's nice to meet you. Since you've introduced yourself, would you like me to create a short story featuring a character named Luke? Or did you have something else in mind? I'd be happy to help with any kind of children's story you're interested in.\", type='text')], model='claude-3-5-sonnet-20240620', role='assistant', stop_reason='end_turn', stop_sequence=None, type='message', usage=In: 27; Out: 61; Cache create: 0; Cache read: 0; Total: 88)"
      ]
     },
     "execution_count": 16,
     "metadata": {},
     "output_type": "execute_result"
    }
   ],
   "source": [
    "client = Client(api_key)\n",
    "model = models[1]  # Using claude-3-sonnet\n",
    "chat = Chat(model, \n",
    "    sp=\"You are a skilled children's story writer who creates engaging, age-appropriate stories.\")\n",
    "chat(\"I'm Luke\")"
   ]
  },
  {
   "cell_type": "code",
   "execution_count": 21,
   "metadata": {},
   "outputs": [
    {
     "name": "stdout",
     "output_type": "stream",
     "text": [
      "Create an engaging story suitable for a 4-year-old child. \n",
      "The story should be approximately 200 words long, include a subtle moral lesson,\n",
      "and be both entertaining and educational.\n",
      "Only return the story itself, no title or additional commentary.\n"
     ]
    }
   ],
   "source": [
    "# Input fields\n",
    "age = 4\n",
    "story_word_length = \"200\"\n",
    "\n",
    "# Get word count from selection\n",
    "word_count = int(story_word_length)\n",
    "\n",
    "# Story prompt\n",
    "story_prompt = f\"\"\"Create an engaging story suitable for a {age}-year-old child. \n",
    "The story should be approximately {word_count} words long, include a subtle moral lesson,\n",
    "and be both entertaining and educational.\n",
    "Only return the story itself, no title or additional commentary.\"\"\"\n",
    "print(story_prompt)"
   ]
  },
  {
   "cell_type": "code",
   "execution_count": 26,
   "metadata": {},
   "outputs": [],
   "source": [
    "chat = Chat(model, sp=\"You are a skilled children's story writer who creates engaging, age-appropriate stories.\")\n",
    "response = chat(story_prompt)"
   ]
  },
  {
   "cell_type": "code",
   "execution_count": 39,
   "metadata": {},
   "outputs": [
    {
     "data": {
      "text/markdown": [
       "Once upon a time, there was a little rabbit named Hoppy who lived in a cozy burrow with his family. Hoppy loved to explore the meadow near his home, hopping through the tall grass and smelling the pretty flowers.\n",
       "\n",
       "One day, Hoppy saw a shiny red ball in the distance. He hopped closer and closer, forgetting how far he was going from home. When he reached the ball, he played and played, rolling it around and bouncing it with his nose.\n",
       "\n",
       "Suddenly, Hoppy realized it was getting dark. He looked around and didn't recognize where he was. He felt scared and alone. But then he remembered what his mother always told him: \"If you're lost, stay where you are and call for help.\"\n",
       "\n",
       "So Hoppy sat very still and called out, \"Help! I'm lost!\" His mother's big ears heard him from far away. She followed his voice and found him quickly.\n",
       "\n",
       "\"Oh, Hoppy,\" she said, hugging him tight. \"I'm so glad you remembered what to do when you're lost. Let's go home now.\"\n",
       "\n",
       "As they hopped back to their burrow, Hoppy promised to always pay attention to where he was going. From that day on, he explored safely and always made sure he could see his home.\n",
       "\n",
       "<details>\n",
       "\n",
       "- id: `msg_01RT5nubCcRfwkTeZrhQpWKS`\n",
       "- content: `[{'text': 'Once upon a time, there was a little rabbit named Hoppy who lived in a cozy burrow with his family. Hoppy loved to explore the meadow near his home, hopping through the tall grass and smelling the pretty flowers.\\n\\nOne day, Hoppy saw a shiny red ball in the distance. He hopped closer and closer, forgetting how far he was going from home. When he reached the ball, he played and played, rolling it around and bouncing it with his nose.\\n\\nSuddenly, Hoppy realized it was getting dark. He looked around and didn\\'t recognize where he was. He felt scared and alone. But then he remembered what his mother always told him: \"If you\\'re lost, stay where you are and call for help.\"\\n\\nSo Hoppy sat very still and called out, \"Help! I\\'m lost!\" His mother\\'s big ears heard him from far away. She followed his voice and found him quickly.\\n\\n\"Oh, Hoppy,\" she said, hugging him tight. \"I\\'m so glad you remembered what to do when you\\'re lost. Let\\'s go home now.\"\\n\\nAs they hopped back to their burrow, Hoppy promised to always pay attention to where he was going. From that day on, he explored safely and always made sure he could see his home.', 'type': 'text'}]`\n",
       "- model: `claude-3-5-sonnet-20240620`\n",
       "- role: `assistant`\n",
       "- stop_reason: `end_turn`\n",
       "- stop_sequence: `None`\n",
       "- type: `message`\n",
       "- usage: `{'input_tokens': 79, 'output_tokens': 286, 'cache_creation_input_tokens': 0, 'cache_read_input_tokens': 0}`\n",
       "\n",
       "</details>"
      ],
      "text/plain": [
       "Message(id='msg_01RT5nubCcRfwkTeZrhQpWKS', content=[TextBlock(text='Once upon a time, there was a little rabbit named Hoppy who lived in a cozy burrow with his family. Hoppy loved to explore the meadow near his home, hopping through the tall grass and smelling the pretty flowers.\\n\\nOne day, Hoppy saw a shiny red ball in the distance. He hopped closer and closer, forgetting how far he was going from home. When he reached the ball, he played and played, rolling it around and bouncing it with his nose.\\n\\nSuddenly, Hoppy realized it was getting dark. He looked around and didn\\'t recognize where he was. He felt scared and alone. But then he remembered what his mother always told him: \"If you\\'re lost, stay where you are and call for help.\"\\n\\nSo Hoppy sat very still and called out, \"Help! I\\'m lost!\" His mother\\'s big ears heard him from far away. She followed his voice and found him quickly.\\n\\n\"Oh, Hoppy,\" she said, hugging him tight. \"I\\'m so glad you remembered what to do when you\\'re lost. Let\\'s go home now.\"\\n\\nAs they hopped back to their burrow, Hoppy promised to always pay attention to where he was going. From that day on, he explored safely and always made sure he could see his home.', type='text')], model='claude-3-5-sonnet-20240620', role='assistant', stop_reason='end_turn', stop_sequence=None, type='message', usage=In: 79; Out: 286; Cache create: 0; Cache read: 0; Total: 365)"
      ]
     },
     "execution_count": 39,
     "metadata": {},
     "output_type": "execute_result"
    }
   ],
   "source": [
    "response"
   ]
  },
  {
   "cell_type": "code",
   "execution_count": null,
   "metadata": {},
   "outputs": [
    {
     "data": {
      "text/plain": [
       "'Once upon a time, there was a little rabbit named Hoppy who lived in a cozy burrow with his family. Hoppy loved to explore the meadow near his home, hopping through the tall grass and smelling the pretty flowers.\\n\\nOne day, Hoppy saw a shiny red ball in the distance. He hopped closer and closer, forgetting how far he was going from home. When he reached the ball, he played and played, rolling it around and bouncing it with his nose.\\n\\nSuddenly, Hoppy realized it was getting dark. He looked around and didn\\'t recognize where he was. He felt scared and alone. But then he remembered what his mother always told him: \"If you\\'re lost, stay where you are and call for help.\"\\n\\nSo Hoppy sat very still and called out, \"Help! I\\'m lost!\" His mother\\'s big ears heard him from far away. She followed his voice and found him quickly.\\n\\n\"Oh, Hoppy,\" she said, hugging him tight. \"I\\'m so glad you remembered what to do when you\\'re lost. Let\\'s go home now.\"\\n\\nAs they hopped back to their burrow, Hoppy promised to always pay attention to where he was going. From that day on, he explored safely and always made sure he could see his home.'"
      ]
     },
     "execution_count": 40,
     "metadata": {},
     "output_type": "execute_result"
    }
   ],
   "source": [
    "response.content[0].text"
   ]
  },
  {
   "cell_type": "code",
   "execution_count": null,
   "metadata": {},
   "outputs": [],
   "source": []
  }
 ],
 "metadata": {
  "kernelspec": {
   "display_name": "dreamquest",
   "language": "python",
   "name": "python3"
  },
  "language_info": {
   "codemirror_mode": {
    "name": "ipython",
    "version": 3
   },
   "file_extension": ".py",
   "mimetype": "text/x-python",
   "name": "python",
   "nbconvert_exporter": "python",
   "pygments_lexer": "ipython3",
   "version": "3.11.10"
  }
 },
 "nbformat": 4,
 "nbformat_minor": 2
}
